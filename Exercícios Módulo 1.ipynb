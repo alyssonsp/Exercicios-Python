{
 "cells": [
  {
   "cell_type": "markdown",
   "metadata": {},
   "source": [
    "# Exercícios do Módulo 1 - Operações, Variáveis e Input"
   ]
  },
  {
   "cell_type": "markdown",
   "metadata": {},
   "source": [
    "### Parte 1 - Operações e Variáveis\n",
    "Crie um programa que imprima (print) os principais indicadores da loja Hashtag&Drink no último ano.\n",
    "Obs: faça tudo usando variáveis.\n",
    "\n",
    "Valores do último ano:\n",
    "\n",
    "Quantidade de Vendas de Coca = 150<br>\n",
    "Quantidade de Vendas de Pepsi = 130<br>\n",
    "Preço Unitário da Coca = 1,50 <br>\n",
    "Preço Unitário da Pepsi = 1,50<br>\n",
    "Custo da Loja: 2.500,00\n",
    "\n",
    "Use o bloco abaixo para criar todas as variáveis que precisar."
   ]
  },
  {
   "cell_type": "code",
   "execution_count": 6,
   "metadata": {},
   "outputs": [],
   "source": [
    "quant_coca = 150\n",
    "quant_pepsi = 130\n",
    "preco_coca = 1.50\n",
    "preco_pepsi = 1.50\n",
    "custo = 2500"
   ]
  },
  {
   "cell_type": "markdown",
   "metadata": {},
   "source": [
    "1. Qual foi o faturamento de Pepsi da Loja?"
   ]
  },
  {
   "cell_type": "code",
   "execution_count": 3,
   "metadata": {},
   "outputs": [
    {
     "name": "stdout",
     "output_type": "stream",
     "text": [
      "195.0\n"
     ]
    }
   ],
   "source": [
    "print(quant_pepsi * preco_pepsi)"
   ]
  },
  {
   "cell_type": "markdown",
   "metadata": {},
   "source": [
    "2. Qual foi o faturamento de Coca da Loja?"
   ]
  },
  {
   "cell_type": "code",
   "execution_count": 4,
   "metadata": {},
   "outputs": [
    {
     "name": "stdout",
     "output_type": "stream",
     "text": [
      "225.0\n"
     ]
    }
   ],
   "source": [
    "print(quant_coca * preco_coca)"
   ]
  },
  {
   "cell_type": "markdown",
   "metadata": {},
   "source": [
    "3. Qual foi o Lucro da loja?"
   ]
  },
  {
   "cell_type": "code",
   "execution_count": 8,
   "metadata": {},
   "outputs": [
    {
     "name": "stdout",
     "output_type": "stream",
     "text": [
      "-2080.0\n"
     ]
    }
   ],
   "source": [
    "vendas_pepsi = quant_pepsi * preco_pepsi\n",
    "vendas_coca = quant_coca * preco_coca\n",
    "faturamento = vendas_coca + vendas_pepsi\n",
    "lucro = faturamento - custo\n",
    "\n",
    "print(lucro)"
   ]
  },
  {
   "cell_type": "markdown",
   "metadata": {},
   "source": [
    "4. Qual foi a Margem da Loja? (Lembre-se, margem = Lucro / Faturamento). Não precisa formatar em percentual"
   ]
  },
  {
   "cell_type": "code",
   "execution_count": 9,
   "metadata": {},
   "outputs": [
    {
     "name": "stdout",
     "output_type": "stream",
     "text": [
      "-4.9523809523809526\n"
     ]
    }
   ],
   "source": [
    "print(lucro / faturamento)"
   ]
  },
  {
   "cell_type": "markdown",
   "metadata": {},
   "source": [
    "### Parte 2 - Inputs e Strings"
   ]
  },
  {
   "cell_type": "markdown",
   "metadata": {},
   "source": [
    "A maioria das empresas trabalham com um Código para cada produto que possuem. A Hashtag&Drink, por exemplo, tem mais de 1.000 produtos e possui um código para cada produto.\n",
    "Ex: \n",
    "Coca -> Código: BEB1300543<br>\n",
    "Pepsi -> Código: BEB1300545<br>\n",
    "Vinho Primitivo Lucarelli -> Código: BAC1546001<br>\n",
    "Vodka Smirnoff -> Código: BAC17675002<br>\n",
    "\n",
    "Repare que todas as bebidas não alcóolicas tem o início do Código \"BEB\" e todas as bebidas alcóolicas tem o início do código \"BAC\".\n",
    "\n",
    "Crie um programa de consulta de bebida que, dado um código qualquer, identifique se a bebida é alcóolica. O programa deve responder True para bebidas alcóolicas e False para bebidas não alcóolicas. Para inserir um código, use um input.\n",
    "\n",
    "Dica: Lembre-se do comando in para strings e sempre insira os códigos com letra maiúscula para facilitar."
   ]
  },
  {
   "cell_type": "code",
   "execution_count": 18,
   "metadata": {},
   "outputs": [
    {
     "name": "stdout",
     "output_type": "stream",
     "text": [
      "Digite o código do produto: BEB1300543\n",
      "O código digitado BEB1300543, indica que NÃO é uma bebida alcóolica.\n"
     ]
    }
   ],
   "source": [
    "codigo = input('Digite o código do produto: ').strip().upper()\n",
    "\n",
    "if 'BAC' in codigo:\n",
    "    print(f'O código digitado {codigo}, indica que é uma bebida alcóolica.')\n",
    "else:\n",
    "     print(f'O código digitado {codigo}, indica que NÃO é uma bebida alcóolica.')\n",
    "    \n",
    "    "
   ]
  }
 ],
 "metadata": {
  "kernelspec": {
   "display_name": "Python 3 (ipykernel)",
   "language": "python",
   "name": "python3"
  },
  "language_info": {
   "codemirror_mode": {
    "name": "ipython",
    "version": 3
   },
   "file_extension": ".py",
   "mimetype": "text/x-python",
   "name": "python",
   "nbconvert_exporter": "python",
   "pygments_lexer": "ipython3",
   "version": "3.9.7"
  }
 },
 "nbformat": 4,
 "nbformat_minor": 4
}
